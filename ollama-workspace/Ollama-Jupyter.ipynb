{
 "cells": [
  {
   "cell_type": "code",
   "execution_count": 1,
   "id": "ec208236",
   "metadata": {},
   "outputs": [
    {
     "data": {
      "text/markdown": [
       "The 2008 global financial crisis was a complex and multifaceted event, but I'll try to provide a concise overview.\n",
       "\n",
       "**Causes:**\n",
       "\n",
       "1. **Subprime Mortgage Crisis**: Banks and other financial institutions had extended large amounts of credit to subprime borrowers (those with poor credit history) at low introductory interest rates. When these rates reset to higher levels, many borrowers defaulted on their mortgages.\n",
       "2. **Securitization**: Mortgages were bundled into securities and sold to investors worldwide, who were unaware of the underlying risks.\n",
       "3. **Deregulation**: The Gramm-Leach-Bliley Act (1999) repealed parts of the Glass-Steagall Act (1933), allowing commercial banks to engage in investment activities, increasing risk-taking.\n",
       "4. **Complex Financial Instruments**: Derivatives, such as credit default swaps (CDS), were used extensively by financial institutions, making it difficult to assess risks and manage exposures.\n",
       "\n",
       "**Key Events:**\n",
       "\n",
       "1. **August 2007:** French bank BNP Paribas halted withdrawals from its investment funds due to subprime-related losses.\n",
       "2. **September 2008:** Lehman Brothers filed for bankruptcy, causing a credit crisis and triggering a global panic.\n",
       "3. **September 15, 2008:** US government took over Fannie Mae and Freddie Mac, mortgage finance giants.\n",
       "4. **September 18, 2008:** Merrill Lynch was sold to Bank of America, while Goldman Sachs and Morgan Stanley converted to bank holding companies to access government support.\n",
       "5. **October 2008:** The US government passed the Troubled Asset Relief Program (TARP) bill, providing $700 billion in bailouts.\n",
       "\n",
       "**Consequences:**\n",
       "\n",
       "1. **Global Recession**: Unprecedented global economic downturn, with GDP contraction in many countries.\n",
       "2. **Job Losses**: Millions of jobs lost worldwide, including over 8 million in the United States.\n",
       "3. **Housing Market Collapse**: US housing market declined by 30-40% from peak to trough.\n",
       "4. **Financial Institution Failures**: Several major banks and financial institutions failed or were forced into mergers (e.g., Lehman Brothers, Bear Stearns).\n",
       "5. **Stimulus Packages**: Governments worldwide implemented stimulus packages to stabilize economies.\n",
       "\n",
       "**Reforms:**\n",
       "\n",
       "1. **Dodd-Frank Wall Street Reform and Consumer Protection Act (2010)**: Aimed at regulating financial institutions, enhancing oversight, and protecting consumers.\n",
       "2. **Volcker Rule**: Prohibited banks from engaging in proprietary trading activities.\n",
       "3. **Basel III**: Strengthened capital requirements for banks to mitigate future crises.\n",
       "\n",
       "This is a condensed summary of the 2008 global financial crisis. If you'd like more information on specific aspects or events, feel free to ask!"
      ],
      "text/plain": [
       "<IPython.core.display.Markdown object>"
      ]
     },
     "metadata": {},
     "output_type": "display_data"
    }
   ],
   "source": [
    "import requests\n",
    "import json\n",
    "from IPython.display import display, Markdown\n",
    "\n",
    "# Model name(to be potentially pulled) and prompt\n",
    "model_name = \"llama3.1\"\n",
    "prompt = \"Do you know what happened during financial crisis of 2008?\"\n",
    "\n",
    "\n",
    "## Pulling the model from Ollama API\n",
    "_ = requests.post('http://ollama:11434/api/pull', json={\n",
    "    \"name\": model_name\n",
    "})\n",
    "\n",
    "## Post request to the API for the response\n",
    "response = requests.post('http://ollama:11434/api/generate', json={\n",
    "    \"model\": model_name,\n",
    "    \"prompt\": prompt,\n",
    "    \"stream\": False\n",
    "}).json()\n",
    "response[\"response\"]\n",
    "\n",
    "display(Markdown(response[\"response\"]))"
   ]
  },
  {
   "cell_type": "code",
   "execution_count": 2,
   "id": "bdfbf6a2",
   "metadata": {},
   "outputs": [
    {
     "data": {
      "text/markdown": [
       "Measuring a country's popularity or lovability can be subjective and based on various criteria. However, I can provide some insights based on various reports and surveys.\n",
       "\n",
       "Here are a few examples:\n",
       "\n",
       "1. **Best Countries Report by US News & World Report**: In their 2022 report, the top three countries that are most loved (based on various metrics such as quality of life, business environment, and citizenship) are:\n",
       "\t* Switzerland\n",
       "\t* Canada\n",
       "\t* Sweden\n",
       "2. **World Happiness Report**: The 2020 report by the Sustainable Development Solutions Network ranked the world's happiest countries, which could be related to a country's lovability. The top three are:\n",
       "\t* Finland (ranked 1st in happiness)\n",
       "\t* Denmark (ranked 2nd)\n",
       "\t* Switzerland (ranked 3rd)\n",
       "3. **Global Satisfaction Survey by Eurobarometer**: A 2020 survey of over 25,000 people across the EU and several non-EU countries found that:\n",
       "\t* Germans were most satisfied with their country, followed closely by Danes, Swedes, and Austrians.\n",
       "4. **International Tourist Arrivals**: According to the World Tourism Organization (UNWTO), some of the most popular tourist destinations in 2020 (pre-pandemic) were:\n",
       "\t* France\n",
       "\t* Spain\n",
       "\t* Italy\n",
       "\t* United States\n",
       "\n",
       "While it's difficult to pinpoint a single \"most loved\" country, these reports and surveys suggest that countries with high standards of living, social welfare systems, education, healthcare, and scenic natural beauty tend to be well-regarded globally.\n",
       "\n",
       "Keep in mind that these findings are based on specific metrics and might not reflect personal preferences or individual experiences."
      ],
      "text/plain": [
       "<IPython.core.display.Markdown object>"
      ]
     },
     "metadata": {},
     "output_type": "display_data"
    }
   ],
   "source": [
    "## Post request to the API for the response\n",
    "response = requests.post('http://ollama:11434/api/generate', json={\n",
    "    \"model\": model_name,\n",
    "    \"prompt\": \"What is the most loved country in the world?\",\n",
    "    \"stream\": False\n",
    "}).json()\n",
    "display(Markdown(response[\"response\"]))"
   ]
  },
  {
   "cell_type": "code",
   "execution_count": 3,
   "id": "b4167000",
   "metadata": {},
   "outputs": [
    {
     "data": {
      "text/markdown": [
       "**assistant:**\n",
       "\n",
       "The sky appears blue because of a phenomenon called Rayleigh scattering, named after the British physicist Lord Rayleigh who first described it in the late 19th century.\n",
       "\n",
       "Here's what happens: when sunlight enters Earth's atmosphere, it encounters tiny molecules of gases such as nitrogen (N2) and oxygen (O2). These molecules scatter the light in all directions. However, they scatter shorter (blue) wavelengths more than longer (red) wavelengths. This is why the sky appears blue during the daytime.\n",
       "\n",
       "The reason for this selective scattering is due to the properties of light itself. Blue light has a shorter wavelength, about 450 nanometers, while red light has a longer wavelength, around 650 nanometers. The smaller molecules in the atmosphere scatter the shorter blue wavelengths more efficiently than the longer red wavelengths.\n",
       "\n",
       "When we look up at the sky on a clear day, our eyes see the scattered blue light from all directions, making it appear as if the entire sky is blue!\n",
       "\n",
       "It's worth noting that the color of the sky can change depending on atmospheric conditions. For example:\n",
       "\n",
       "* During sunrise and sunset, the sky often appears more red or orange due to the scattering of longer wavelengths by dust particles in the atmosphere.\n",
       "* On a cloudy day, the light has to travel through more air molecules, which scatters all colors equally, making the sky appear white.\n",
       "* At night, when it's dark outside, the sky appears black because there is no direct sunlight to scatter.\n",
       "\n",
       "I hope this explanation helped you understand why the sky is blue!"
      ],
      "text/plain": [
       "<IPython.core.display.Markdown object>"
      ]
     },
     "metadata": {},
     "output_type": "display_data"
    }
   ],
   "source": [
    "## Post request to the API for the response\n",
    "messages= [{\"role\": \"system\", \"content\":\"You are a helpful assistant.\"},{\"role\": \"user\", \"content\":\"Why is the sky blue?\"}]\n",
    "response = requests.post('http://ollama:11434/api/chat', json={\n",
    "    \"model\": model_name,\n",
    "    \"messages\": messages,\n",
    "    \"stream\": False\n",
    "}).json()\n",
    "\n",
    "\n",
    "display(Markdown(f\"**{response[\"message\"][\"role\"]}:**\\n\\n{response[\"message\"][\"content\"]}\"))"
   ]
  },
  {
   "cell_type": "code",
   "execution_count": null,
   "id": "b6742d6a",
   "metadata": {},
   "outputs": [],
   "source": []
  }
 ],
 "metadata": {
  "kernelspec": {
   "display_name": "Python 3",
   "language": "python",
   "name": "python3"
  },
  "language_info": {
   "codemirror_mode": {
    "name": "ipython",
    "version": 3
   },
   "file_extension": ".py",
   "mimetype": "text/x-python",
   "name": "python",
   "nbconvert_exporter": "python",
   "pygments_lexer": "ipython3",
   "version": "3.12.8"
  }
 },
 "nbformat": 4,
 "nbformat_minor": 5
}
