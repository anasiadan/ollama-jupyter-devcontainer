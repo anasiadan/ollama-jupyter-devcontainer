{
 "cells": [
  {
   "cell_type": "code",
   "execution_count": null,
   "id": "ec208236",
   "metadata": {
    "vscode": {
     "languageId": "plaintext"
    }
   },
   "outputs": [],
   "source": [
    "import requests\n",
    "import json\n",
    "from IPython.display import display, Markdown\n",
    "\n",
    "# Model name(to be potentially pulled) and prompt\n",
    "model_name = \"llama3.1\"\n",
    "prompt = \"Do you know what happened during financial crisis of 2008?\"\n",
    "\n",
    "\n",
    "## Pulling the model from Ollama API\n",
    "_ = requests.post('http://ollama:11434/api/pull', json={\n",
    "    \"name\": model_name\n",
    "})\n",
    "\n",
    "## Post request to the API for the response\n",
    "response = requests.post('http://ollama:11434/api/generate', json={\n",
    "    \"model\": model_name,\n",
    "    \"prompt\": prompt,\n",
    "    \"stream\": False\n",
    "}).json()\n",
    "response[\"response\"]\n",
    "\n",
    "display(Markdown(response[\"response\"]))"
   ]
  },
  {
   "cell_type": "code",
   "execution_count": null,
   "id": "bdfbf6a2",
   "metadata": {
    "vscode": {
     "languageId": "plaintext"
    }
   },
   "outputs": [],
   "source": [
    "## Post request to the API for the response\n",
    "response = requests.post('http://ollama:11434/api/generate', json={\n",
    "    \"model\": model_name,\n",
    "    \"prompt\": \"What is the most loved country in the world?\",\n",
    "    \"stream\": False\n",
    "}).json()\n",
    "display(Markdown(response[\"response\"]))"
   ]
  },
  {
   "cell_type": "code",
   "execution_count": null,
   "id": "b4167000",
   "metadata": {
    "vscode": {
     "languageId": "plaintext"
    }
   },
   "outputs": [],
   "source": [
    "## Post request to the API for the response\n",
    "messages= [{\"role\": \"system\", \"content\":\"You are a helpful assistant.\"},{\"role\": \"user\", \"content\":\"Why is the sky blue?\"}]\n",
    "response = requests.post('http://ollama:11434/api/chat', json={\n",
    "    \"model\": model_name,\n",
    "    \"messages\": messages,\n",
    "    \"stream\": False\n",
    "}).json()\n",
    "\n",
    "\n",
    "display(Markdown(f\"**{response[\"message\"][\"role\"]}:**\\n\\n{response[\"message\"][\"content\"]}\"))"
   ]
  },
  {
   "cell_type": "code",
   "execution_count": null,
   "id": "b6742d6a",
   "metadata": {
    "vscode": {
     "languageId": "plaintext"
    }
   },
   "outputs": [],
   "source": []
  }
 ],
 "metadata": {
  "language_info": {
   "name": "python"
  }
 },
 "nbformat": 4,
 "nbformat_minor": 5
}
